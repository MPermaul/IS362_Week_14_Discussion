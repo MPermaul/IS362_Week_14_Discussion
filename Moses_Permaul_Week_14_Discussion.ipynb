{
 "cells": [
  {
   "attachments": {},
   "cell_type": "markdown",
   "metadata": {},
   "source": [
    "### The Runner: Recommender System of Workout and Nutrition for Runners\n",
    "\n",
    "<img src=\"Capture.PNG\" alt=\"Runner Page\" width=\"400\"/>\n",
    "\n",
    "\n",
    "### Abstract:\n",
    "\n",
    "Recommender systems have been gaining popularity and appreciation over the past few years and they kept growing towards a semantic web. Internet users search for more and more facilities to get information and recommendations based on their preferences, experience and expectations. Nowadays, there are many recommending systems on the web for music, movies, diets, products, etc. Some of them use very efficient recommending techniques (ex. Amazon), while others are very simple, based on algorithms that do not always provide relevant or interesting recommendations. The solution we propose is a recommending system for running professionals and amateurs, which is able to provide information to users regarding the workout and the diet that best suits them, based on their profile information, preferences and declared purpose. The solution mixes a social dimension derived from an expanding community with expert knowledge defined within an ontology. Moreover, our model addresses adaptability in terms of personal profile, professional results and unfortunate events that might occur during workouts.\n",
    "\n",
    "\n",
    "### Scenario Design Analysis\n",
    "#### 1. Who are your target users?\n",
    "The Runner is a recommendation system are from both amateur and experienced runners who are looking for recommendations on diets and workout exercises.\n",
    "\n",
    "#### 2. What are your users' key goals?\n",
    "The user's key goals are to find recommendations on what diets they should follow while training. Also, they are looking to find what excersises they should incorporate into their workout regimne if they aren't sure of what they should be doing.\n",
    "\n",
    "\n",
    "#### 3. How can we help the users accomplish their goals?"
   ]
  },
  {
   "cell_type": "markdown",
   "metadata": {},
   "source": []
  },
  {
   "cell_type": "markdown",
   "metadata": {},
   "source": []
  }
 ],
 "metadata": {
  "kernelspec": {
   "display_name": "Python 3",
   "language": "python",
   "name": "python3"
  },
  "language_info": {
   "codemirror_mode": {
    "name": "ipython",
    "version": 3
   },
   "file_extension": ".py",
   "mimetype": "text/x-python",
   "name": "python",
   "nbconvert_exporter": "python",
   "pygments_lexer": "ipython3",
   "version": "3.8.3"
  }
 },
 "nbformat": 4,
 "nbformat_minor": 4
}
